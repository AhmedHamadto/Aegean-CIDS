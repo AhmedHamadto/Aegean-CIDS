{
  "nbformat": 4,
  "nbformat_minor": 0,
  "metadata": {
    "colab": {
      "provenance": [],
      "gpuType": "T4"
    },
    "kernelspec": {
      "name": "python3",
      "display_name": "Python 3"
    },
    "language_info": {
      "name": "python"
    },
    "accelerator": "GPU"
  },
  "cells": [
    {
      "cell_type": "code",
      "source": [
        "#@title Import Libraries\n",
        "# Importing Libraries\n",
        "import numpy as np\n",
        "import math\n",
        "from numba import jit, cuda\n",
        "import time"
      ],
      "metadata": {
        "id": "g16WJA1sXY9f"
      },
      "execution_count": null,
      "outputs": []
    },
    {
      "cell_type": "code",
      "source": [
        "#@title Data\n",
        "\n",
        "# Test the modified elliptical_gaussian function\n",
        "x = np.linspace(-5, 5, 100)\n",
        "y = np.linspace(-5, 5, 100)\n",
        "amp = 1.0\n",
        "xo = 0.0\n",
        "yo = 0.0\n",
        "sx = 1.0\n",
        "sy = 0.5\n",
        "theta = 45.0"
      ],
      "metadata": {
        "id": "ePMK3qevhkU-",
        "cellView": "form"
      },
      "execution_count": null,
      "outputs": []
    },
    {
      "cell_type": "code",
      "source": [
        "#@title Pythonic Implementation\n",
        "# Running the function on Python\n",
        "# Original Function\n",
        "def elliptical_gaussian(x, y, amp, xo, yo, sx, sy, theta):\n",
        "    \"\"\"\n",
        "    Generate a model 2d Gaussian with the given parameters.\n",
        "    Evaluate this model at the given locations x,y.\n",
        "\n",
        "    Parameters\n",
        "    ----------\n",
        "    x, y : numeric or array-like\n",
        "        locations at which to evaluate the gaussian\n",
        "    amp : float\n",
        "        Peak value.\n",
        "    xo, yo : float\n",
        "        Center of the gaussian.\n",
        "    sx, sy : float\n",
        "        major/minor axes in sigmas\n",
        "    theta : float\n",
        "        position angle (degrees) CCW from x-axis\n",
        "\n",
        "    Returns\n",
        "    -------\n",
        "    data : numeric or array-like\n",
        "        Gaussian function evaluated at the x,y locations.\n",
        "    \"\"\"\n",
        "    try:\n",
        "        sint, cost = math.sin(np.radians(theta)), math.cos(np.radians(theta))\n",
        "    except ValueError as e:\n",
        "        if 'math domain error' in e.args:\n",
        "            sint, cost = np.nan, np.nan\n",
        "    xxo = x - xo\n",
        "    yyo = y - yo\n",
        "    exp = (xxo * cost + yyo * sint) ** 2 / sx ** 2 \\\n",
        "        + (xxo * sint - yyo * cost) ** 2 / sy ** 2\n",
        "    exp *= -1. / 2\n",
        "    return amp * np.exp(exp)\n",
        "\n",
        "total_time = 0\n",
        "num_iterations = 10\n",
        "\n",
        "for _ in range(num_iterations):\n",
        "    start_time = time.time()\n",
        "    for i in range(1_000_000):\n",
        "        result = elliptical_gaussian(x, y, amp, xo, yo, sx, sy, theta)\n",
        "    end_time = time.time()\n",
        "    execution_time2 = end_time - start_time\n",
        "    total_time += execution_time2\n",
        "\n",
        "average_execution_time_python = total_time / num_iterations\n",
        "print(f\"Average execution time: {average_execution_time_python} seconds\")\n"
      ],
      "metadata": {
        "colab": {
          "base_uri": "https://localhost:8080/"
        },
        "id": "wZSVPg8seBsB",
        "outputId": "683d1bff-8681-4412-d495-c597cd1d6b57"
      },
      "execution_count": null,
      "outputs": [
        {
          "output_type": "stream",
          "name": "stdout",
          "text": [
            "Average execution time: 23.702743315696715 seconds\n"
          ]
        }
      ]
    },
    {
      "cell_type": "code",
      "source": [
        "#@title Numba CPU\n",
        "# Running the function on Numba\n",
        "from numba import jit, prange\n",
        "import numpy as np\n",
        "import math\n",
        "import time\n",
        "\n",
        "# Running the function on Numba\n",
        "@jit(nopython=True, parallel=True)\n",
        "def elliptical_gaussian(x, y, amp, xo, yo, sx, sy, theta):\n",
        "    result = np.zeros_like(x)\n",
        "    for i in prange(x.shape[0]):\n",
        "        if theta % 90 == 0:\n",
        "            sint, cost = 0.0, 1.0\n",
        "        else:\n",
        "            sint, cost = math.sin(np.radians(theta)), math.cos(np.radians(theta))\n",
        "        xxo = x[i] - xo\n",
        "        yyo = y[i] - yo\n",
        "        exp = ((xxo * cost + yyo * sint) ** 2 / sx ** 2 + (xxo * sint - yyo * cost) ** 2 / sy ** 2) / -2\n",
        "        result[i] = amp * math.exp(exp)\n",
        "    return result\n",
        "\n",
        "# Test parameters\n",
        "x = np.linspace(-5, 5, 100)\n",
        "y = np.linspace(-5, 5, 100)\n",
        "amp = 1.0\n",
        "xo = 0.0\n",
        "yo = 0.0\n",
        "sx = 1.0\n",
        "sy = 0.5\n",
        "theta = 45.0\n",
        "\n",
        "total_time = 0\n",
        "num_iterations = 10\n",
        "\n",
        "for _ in range(num_iterations):\n",
        "    start_time = time.time()\n",
        "    for i in range(1_000_000):\n",
        "        result = elliptical_gaussian(x, y, amp, xo, yo, sx, sy, theta)\n",
        "    end_time = time.time()\n",
        "    execution_time2 = end_time - start_time\n",
        "    total_time += execution_time2\n",
        "\n",
        "average_execution_time_numba_cpu = total_time / num_iterations\n",
        "print(f\"Average execution time: {average_execution_time_numba_cpu} seconds\")\n"
      ],
      "metadata": {
        "colab": {
          "base_uri": "https://localhost:8080/"
        },
        "cellView": "form",
        "id": "nGzwTXqLYenI",
        "outputId": "b3f0969c-5cc7-456c-fa79-9974350f8c69"
      },
      "execution_count": null,
      "outputs": [
        {
          "output_type": "stream",
          "name": "stdout",
          "text": [
            "Average execution time: 12.478839921951295 seconds\n"
          ]
        }
      ]
    },
    {
      "cell_type": "code",
      "source": [
        "#@title Percentage Comparison between Python and Numba\n",
        "# Percentage comparison between the Python and Numba implementations\n",
        "percentage = (average_execution_time_python - average_execution_time_numba_cpu) / average_execution_time_python * 100\n",
        "print(f\"Percentage improvement between Python and Numba: {percentage}%\")"
      ],
      "metadata": {
        "colab": {
          "base_uri": "https://localhost:8080/"
        },
        "cellView": "form",
        "id": "fY0KUTtbh2G0",
        "outputId": "0a739a66-3a2d-45a5-dc50-192380c83044"
      },
      "execution_count": null,
      "outputs": [
        {
          "output_type": "stream",
          "name": "stdout",
          "text": [
            "Percentage improvement between Python and Numba: 47.35276100430363%\n"
          ]
        }
      ]
    },
    {
      "cell_type": "code",
      "execution_count": null,
      "metadata": {
        "id": "azbOEzzlCilf",
        "colab": {
          "base_uri": "https://localhost:8080/"
        },
        "cellView": "form",
        "outputId": "e6ea3e2b-7ddc-412c-b5a0-fad4eb92a2e0"
      },
      "outputs": [
        {
          "output_type": "stream",
          "name": "stderr",
          "text": [
            "/usr/local/lib/python3.10/dist-packages/numba/cuda/dispatcher.py:536: NumbaPerformanceWarning: Grid size 1 will likely result in GPU under-utilization due to low occupancy.\n",
            "  warn(NumbaPerformanceWarning(msg))\n"
          ]
        },
        {
          "output_type": "stream",
          "name": "stdout",
          "text": [
            "Total execution time: 77.7383406162262 seconds\n"
          ]
        }
      ],
      "source": [
        "#@title Numba GPU\n",
        "from numba import cuda, float64, int64\n",
        "\n",
        "@cuda.jit\n",
        "def elliptical_gaussian_gpu(x, y, result, amp, xo, yo, sx, sy, theta):\n",
        "    i = cuda.grid(1)\n",
        "    if i < x.shape[0]:\n",
        "        if theta % 90 == 0:\n",
        "            sint, cost = 0.0, 1.0\n",
        "        else:\n",
        "            sint, cost = math.sin(np.radians(theta)), math.cos(np.radians(theta))\n",
        "        xxo = x[i] - xo\n",
        "        yyo = y[i] - yo\n",
        "        exp = ((xxo * cost + yyo * sint) ** 2 / sx ** 2 + (xxo * sint - yyo * cost) ** 2 / sy ** 2) / -2\n",
        "        result[i] = amp * math.exp(exp)\n",
        "\n",
        "# Test the modified elliptical_gaussian function\n",
        "x = np.linspace(-5, 5, 100)\n",
        "y = np.linspace(-5, 5, 100)\n",
        "amp = 1.0\n",
        "xo = 0.0\n",
        "yo = 0.0\n",
        "sx = 1.0\n",
        "sy = 0.5\n",
        "theta = 45.0\n",
        "\n",
        "# Allocate memory on the GPU\n",
        "d_x = cuda.to_device(x)\n",
        "d_y = cuda.to_device(y)\n",
        "d_result = cuda.device_array_like(x)\n",
        "\n",
        "# Define the block size and grid size\n",
        "block_size = 256\n",
        "grid_size = (x.shape[0] + block_size - 1) // block_size\n",
        "\n",
        "start_time = time.time()\n",
        "# Profile the elliptical_gaussian_gpu function for each set of dummy data\n",
        "for i in range(1_000_000):\n",
        "    elliptical_gaussian_gpu[grid_size, block_size](d_x, d_y, d_result, amp, xo, yo, sx, sy, theta)\n",
        "\n",
        "end_time = time.time()\n",
        "average_execution_time_gpu = end_time - start_time\n",
        "print(f\"Total execution time: {average_execution_time_gpu} seconds\")\n"
      ]
    },
    {
      "cell_type": "code",
      "source": [
        "#@title Percentage Comparison between Python and Numba GPU\n",
        "# Percentage comparison between the Python and Numba implementations\n",
        "percentage = (average_execution_time_python - average_execution_time_gpu) / average_execution_time_python * 100\n",
        "print(f\"Percentage improvement between Python and Numba: {percentage}%\")"
      ],
      "metadata": {
        "colab": {
          "base_uri": "https://localhost:8080/"
        },
        "id": "7qs0RfmQ8tcc",
        "outputId": "4c4a25af-9c24-40ba-f320-9f9a6764929a"
      },
      "execution_count": null,
      "outputs": [
        {
          "output_type": "stream",
          "name": "stdout",
          "text": [
            "Percentage improvement between Python and Numba: -227.97191270575578%\n"
          ]
        }
      ]
    }
  ]
}